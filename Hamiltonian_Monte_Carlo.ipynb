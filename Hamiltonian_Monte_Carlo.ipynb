{
 "cells": [
  {
   "cell_type": "code",
   "execution_count": 1,
   "metadata": {
    "collapsed": false
   },
   "outputs": [],
   "source": [
    "import numpy as np\n",
    "import pandas as pd\n",
    "import seaborn as sns\n",
    "import numpy.linalg as la\n",
    "import scipy.stats as stats\n",
    "import matplotlib.pyplot as plt\n",
    "from sklearn import preprocessing\n",
    "%matplotlib inline"
   ]
  },
  {
   "cell_type": "markdown",
   "metadata": {},
   "source": [
    "# Hamiltonian Monte Carlo\n",
    "\n",
    "### STA663 Final Project\n",
    "#### Authors: Ilan Man and Sanjay Hariharan"
   ]
  },
  {
   "cell_type": "markdown",
   "metadata": {},
   "source": [
    "1. Introduction\n",
    "----\n",
    "\n",
    "Hamiltonian Monte Carlo is a novel approach to Posterior estimation. It improves on the simple random-walk proposal of the Metropolis algorithm, by ensuring that these proposals are in the direction of steepest ascent (reference). In doing so, we avoid the slow exploration of the state space from these random proposals. HMC reduces the correlation between successive sampled states by using Hamiltonian evolution between states, a concept derived from quantum mechanics. The energy preserving aspect of Hamiltonian dynamics will be extremely useful in our derivation and implementation of this algorithm.\n",
    "\n",
    "The remaining sections of this paper are structured as follows:\n",
    "<ul>\n",
    "<li>We introduce and review common MCMC methods. \n",
    "<ul>\n",
    "<li>We discuss Gibbs Sampling, Metropolis-Hastings and Slice Sampling in the context of a bivariate Normal distribution.\n",
    "<li>We show convergence under generic parameter settings\n",
    "</ul>\n",
    "<li>Then we introduce Hamiltonian dynamics and discuss its connection to MCMC and probability models. \n",
    "<li>We apply Hamiltonian Monte Carlo to the same bivariate Normal distribution and discuss its convergence under various parameter settings\n",
    "<li>Finally we present empirical comparisons between Gibbs Sampling, Metropolis-Hastings and Hamiltonian Monte Carlo when we fit a linear regression model.\n",
    "<ul>\n",
    "<li>We also include examples of using Cython to speed up inefficiencies in the Metropolis-Hastings algorithm.\n",
    "</ul>\n",
    "</ul>"
   ]
  },
  {
   "cell_type": "markdown",
   "metadata": {},
   "source": [
    "2. MCMC review\n",
    "---\n",
    "Markov Chain Monte Carlo methods are a class of algorithms for sampling from a proabability distribution based on constructing a Markov Chain. In Bayesian Inference, we obtain estimates for model parameters by sampling from the posterior distribution. MCMC methods are used extensively in calculating posterior distributions, which are often complex and intractable, and therefore must be approximated numerically. MCMC algorithms have certain attractive properties such as convergence to a limiting distribution, which we exploit in solving Bayesian Inference problems."
   ]
  },
  {
   "cell_type": "markdown",
   "metadata": {},
   "source": [
    "<h3>2.1 Motivation</h3>\n",
    "\n",
    "In the case of Heirarchical Bayesian Models, we often find the posterior distribution to be comprised of several parameters and is often intractable to solve. Even when tractable, we may find ourselves having to compute several complex integrals which require massive amounts of computing time. In real-world applications, practitioners commonly use MCMC methods to solve for these parameters. There are many flavors of MCMC and the modeler should identify which one to use in which case."
   ]
  },
  {
   "cell_type": "markdown",
   "metadata": {},
   "source": [
    "<h3>2.2 Gibbs Sampling</h3>\n",
    "\n",
    "\n",
    "Gibbs sampling is a specific variant of MCMC where each parameter of interest can be sampled directly, when conditioned across all the other parameters. This algorithm generates an instance from the distribution of each variable in turn, conditional on the current values of the other variables. This sequence of samples constitutes a Markov Chain whose stationary distribution is the sought-after joint distribution."
   ]
  },
  {
   "cell_type": "markdown",
   "metadata": {},
   "source": [
    "<h4>Gibbs Sampling Pseudo-Code</h4>\n",
    "\n",
    "<ol>\n",
    "<li>set t = 0<br>\n",
    "<li>generate an initial state $x^{(0)} \\sim \\pi^{(0)}$<br>\n",
    "<li>repeat until t = M<br>\n",
    "<ol>\n",
    "<li>set t = t+1<br>\n",
    "<li>for each dimension i = 1..D<br>\n",
    "<li>draw $x_i$ from $p(x_i|x_1,x_2,\\dots,x_{i-1},x_{i+1},\\dots,x_D)$<br>\n",
    "</ol>\n",
    "</ol>"
   ]
  },
  {
   "cell_type": "markdown",
   "metadata": {},
   "source": [
    "<h4>Shortcomings</h4>\n",
    "\n",
    "The main shortcoming of Gibbs Sampling is the successive autocorrelation of the samples. Due to the fact that the sampling generates a Markov Chain, successive samples are correlated with each other. Thinning and Block Sampling may help reduce this correlation, but these heuristics sometimes don't work well or require lots of data. Another shortfall specific to Gibbs Sampling is that it requires identifying conditional distributions for each parameter. As with the posterior, some of these conditional distributions may have complex, intractable forms and will need other MCMC methods to compute them."
   ]
  },
  {
   "cell_type": "markdown",
   "metadata": {},
   "source": [
    "<h3>2.3 Metropolis-Hastings</h3>\n",
    "\n",
    "The Metropolis algorithm is a generalization of Gibbs Sampling, useful when you cannot compute conditional sampling distributions in closed form. At each iteration of this algorithm, we propose a candidate for the next sample value of the parameter in question. The most common proposal method is a simple random walk, i.e. we sample from a Standard Normal Distribution. Then, with probability $\\alpha$ the candidate is either accepted (updating our chain's next value with the candidate) or rejected (making the chain's next value equal to the current). $\\alpha$ is the ratio of the posterior distribution with the proposed parameter over the posterior distribution with the previous parameter, truncated to 1."
   ]
  },
  {
   "cell_type": "markdown",
   "metadata": {},
   "source": [
    "<h4>Metropolis-Hastings Pseudo-Code</h4>\n",
    "\n",
    "<ol>\n",
    "<li>set t = 0<br>\n",
    "<li>generate an initial state $x^{(0)} \\sim \\pi^{(0)}$<br>\n",
    "<li>repeat until t = M<br>\n",
    "<ol>\n",
    "<li>set t = t+1<br>\n",
    "<li>generate a proposal state $x^*$ from $q(x | x^{(t-1)})$<br>\n",
    "<li>calculate the proposal correction factor c = $\\frac{q(x^{(t-1)} | x^*) }{q(x^*|x^{(t-1)})}$<br>\n",
    "<li>calculate the acceptance probability $\\alpha = \\text{min} \\left (1,\\frac{p(x^*)}{p(x^{(t-1)})} \\times c\\right )$ <br>\n",
    "<li>draw a random number u from Unif(0,1)<br>\n",
    "<ol>\n",
    "<li>if u $\\leq \\alpha$ accept the proposal state $x^*$ and set $x^{(t)}=x^*$<br>\n",
    "<li>else set $x^{(t)} = x^{(t-1)}$\n",
    "</ol>\n",
    "</ol>\n",
    "</ol>"
   ]
  },
  {
   "cell_type": "code",
   "execution_count": 2,
   "metadata": {
    "collapsed": false
   },
   "outputs": [],
   "source": [
    "def metropolis_hastings_MC(y, Cov):\n",
    "    \"\"\"\n",
    "    Metropolis Hastings Monte Carlo algorithm for a bivariate normal\n",
    "\n",
    "    Parameters\n",
    "    ----------\n",
    "    y : ndarray of shape 2 x N. Stores (y1, y2) data points.\n",
    "    Cov: covariance matrix\n",
    "    \n",
    "    Returns\n",
    "    -------\n",
    "    y : ndarray of shape 2 x N. Transformed variable with MHMC samples\n",
    "    \n",
    "    Raises\n",
    "    ------\n",
    "    Error if covariance is not positive semi definite\n",
    "    \n",
    "    \"\"\"\n",
    "    \n",
    "    assert(np.all(la.eigvals(Cov)>=0)), \"Covariance matrix must be Positive Semi-Definite\"\n",
    "    \n",
    "    N = y.shape[0]\n",
    "    \n",
    "    def posterior(x, Cov):\n",
    "        return stats.multivariate_normal.pdf(x, mean = np.array([0,0]), cov = Cov)\n",
    "    \n",
    "    for t in range(1,N):\n",
    "\n",
    "        # multivariate normal pproposal\n",
    "        y_star = np.random.multivariate_normal(y[t-1,:], np.eye(2))\n",
    "\n",
    "        # acceptance ratio\n",
    "        alpha = min(1, posterior(y_star, Cov)/posterior(y[t-1,:], Cov))\n",
    "        \n",
    "        # accept/reject criterion\n",
    "        y[t,:] = y_star if np.random.random() < alpha else y[t-1,:]\n",
    "\n",
    "    return y"
   ]
  },
  {
   "cell_type": "markdown",
   "metadata": {},
   "source": [
    "<h4>Shortcomings</h4>\n",
    "\n",
    "The main shortcoming of the Metropolis Algorithm is that it explores the posterior space very slowly. This is due to the random walk behavior of the proposals. This makes the algorithm inefficient and requires a lot of computation to accurately estimate low-variance parameters.\n"
   ]
  },
  {
   "cell_type": "markdown",
   "metadata": {},
   "source": [
    "<h3>2.4 Auxiliary Variables: Slice Sampling</h3>\n",
    "\n",
    "Slice sampling is a simple MCMC algorithm that introudces the idea of auxiliary variables. The motivation for slice sampling is that if we can sample uniformly from the region under the graph of the target distribution, we will have random samples from the target distribution. "
   ]
  },
  {
   "cell_type": "markdown",
   "metadata": {},
   "source": [
    "<img src=\"prob_density.png\"style=\"float: left; width: 300px;margin-left: 20%\"><img src=\"prob_density_slices.png\"style=\"width: 300px;margin-right: 20%\">"
   ]
  },
  {
   "cell_type": "markdown",
   "metadata": {},
   "source": [
    "<h4>Slice Sampling Pseudo-Code</h4>\n",
    "\n",
    "Slice sampling, in its simplest form, samples uniformly from underneath the curve f(x) without the need to reject any points, as follows:\n",
    "\n",
    "<ol>\n",
    "<li>Choose a starting value $x_0$ for which f($x_0$)>0.\n",
    "<li>Sample a y value uniformly between 0 and f($x_0$).\n",
    "<li>Draw a horizontal line across the curve at this y position.\n",
    "<li>Sample a point (x,y) from the line segments within the curve.\n",
    "<li>Repeat from step 2 using the new x value.\n",
    "</ol>"
   ]
  },
  {
   "cell_type": "markdown",
   "metadata": {},
   "source": [
    "The motivation here is that one way to sample a point uniformly from within an arbitrary curve is first to draw thin uniform-height horizontal slices across the whole curve. Then, we can sample a point within the curve by randomly selecting a slice that falls at or below the curve at the x-position from the previous iteration, then randomly picking an x-position somewhere along the slice. By using the x-position from the previous iteration of the algorithm, in the long run we select slices with probabilities proportional to the lengths of their segments within the curve.\n",
    "\n",
    "Generally, the trickiest part of this algorithm is finding the bounds of the horizontal slice, which involves inverting the function describing the distribution being sampled from. This is especially problematic for multi-modal distributions, where the slice may consist of multiple discontiguous parts. It is often possible to use a form of rejection sampling to overcome this, where we sample from a larger slice that is known to include the desired slice in question, and then discard points outside of the desired slice."
   ]
  },
  {
   "cell_type": "code",
   "execution_count": 3,
   "metadata": {
    "collapsed": true
   },
   "outputs": [],
   "source": [
    "def slice_sampler(mu, Cov, w, N):\n",
    "    \"\"\"\n",
    "    Slice Sampling algorithm for a bivariate normal\n",
    "\n",
    "    Parameters\n",
    "    ----------\n",
    "    mu : mean of bivariate distribution to sample from\n",
    "    Cov: covariance matrix\n",
    "    w : size of step to increase horizontal interval for successive slices\n",
    "    N : number of iterations\n",
    "    \n",
    "    Returns\n",
    "    -------\n",
    "    y : ndarray of shape 2 x N with Slice samples\n",
    "    \n",
    "    Raises\n",
    "    ------\n",
    "    Error if covariance is not positive semi definite\n",
    "    \"\"\"\n",
    "    \n",
    "    assert(np.all(la.eigvals(Cov)>=0)), \"Covariance matrix must be Positive Semi-Definite\"\n",
    "    \n",
    "    corr = Cov[0][1]\n",
    "    var_x = Cov[0][0]\n",
    "    var_y = Cov[1][1]\n",
    "    \n",
    "    x0 = stats.multivariate_normal.rvs(mean=mu, cov=Cov)\n",
    "    y = np.zeros(2*N).reshape(2,N).T\n",
    "    dimensions = [0,1]\n",
    "\n",
    "    for t in range(1,N):\n",
    "\n",
    "        for dim in dimensions:\n",
    "\n",
    "            # sample from conditional distribution f(y|x) ~ N(mu_, var_)\n",
    "            # where mu_ = mu_y + corr(x,y)*(x - mu_x)*var_y/var_x\n",
    "            # var_ = var_y*(1-corr(x,y)^2)\n",
    "\n",
    "            mu_ = mu[dim] + corr*( y[t-1][dim] - mu[1-dim] )*var_y/var_x\n",
    "            var_ = var_y*(1 - corr**2)\n",
    "\n",
    "            # sample between 0 and f(x0) - this is the height of the horizontal slice\n",
    "            # f(x) is the conditional bivariate, f(x|Y=y)\n",
    "            y0 = np.random.uniform(0, stats.norm.pdf(x0[dim], loc = mu_, scale = var_))\n",
    "\n",
    "            lb, rb = x0[dim], x0[dim]\n",
    "\n",
    "            # create an interval where x0 lives. Take w-sized steps to increase the horizontal line\n",
    "            while y0 < stats.norm.pdf(lb, loc = mu_, scale = var_) :\n",
    "                lb -= w\n",
    "\n",
    "            while y0 < stats.norm.pdf(rb, loc = mu_, scale = var_):\n",
    "                rb += w\n",
    "\n",
    "            # Once this interval is determined, sample uniformly from it for x1\n",
    "            x0 = np.random.uniform(low = lb, high = rb, size = 2)\n",
    "\n",
    "            # if generated point outside of the interval\n",
    "            if y0 > stats.norm.pdf(x0[dim], loc = mu_, scale = var_) :\n",
    "                if np.abs(x0[dim] - lb) < np.abs(x0[dim] - rb):\n",
    "                    lb = x0[dim]\n",
    "                else:\n",
    "                    lb = y0\n",
    "\n",
    "            else:\n",
    "                y[t][dim] = x0[dim]\n",
    "\n",
    "    return y"
   ]
  },
  {
   "cell_type": "markdown",
   "metadata": {},
   "source": [
    "3. Hamiltonian Dynamics\n",
    "----\n",
    "\n",
    "Before we can develop Hamiltonian Monte Carlo, we must become familiar with the concept of Hamiltonian dynamics. Hamiltonian dymanics describes an object's motion in terms of its location $x$ and momentum $p$. Recall from high school physics that momentum $p$ is equal to an object's mass $m$ times its velocity $v$. For each location an object takes, there is an associated potential energy $U(x)$, and for each momentum there is an associated kineric energy $K(p)$. The total energy of the system is **constant** and is known as the Hamiltonian $H(x,p)$, defined as:\n",
    "    \n",
    "$$H(x,p) = U(x) + K(p)$$\n",
    "\n",
    "This description is implemented quantitatively via a set of differential equations known as the Hamiltonian equations:\n",
    "\n",
    "$$\\frac{\\partial x_i}{\\partial t} = \\frac{\\partial H}{\\partial p_i} = \\frac{\\partial K(\\mathbf{p})}{\\partial p_i}$$\n",
    "$$\\frac{\\partial p_i}{\\partial t} = -\\frac{\\partial H}{\\partial x_i} = -\\frac{\\partial U(\\mathbf{x})}{\\partial x_i}$$\n",
    "\n",
    "If we can solve for these partial derivatives, we can apply Hamiltonian Dynamics to more general cases. In order to simulate these dynamics numerically for computation, it is necessary to approximate the Hamiltonian equations by discretizing time. This is done by splitting up the interval $T$ into a series of smaller intervals of length $\\delta$. The smaller the value of $\\delta$ the closer the approximation is to the dynamics in continuous time, but the more computationally expensive is the procedure.\n"
   ]
  },
  {
   "cell_type": "markdown",
   "metadata": {},
   "source": [
    "<h3>3.1 The Leap Frog Method</h3>\n",
    "\n",
    "The Leap Frog Method is a popular method for numerically integrating differential equations, such as the Hamiltonian equations. The method updates the momentum and position variables sequentially, starting by simulating the momentum dynamics over a small interval of time $\\frac{\\delta}{2}$, then simulating the position dynamics over a slightly longer interval in time $\\delta$, then completing the momentum simulation over another small interval of time $\\frac{\\delta}{2}$ so that x and p now exist at the same point in time. Specifically:<br>\n",
    "\n",
    "1. Take a half step in time to update the momentum variable: <br>\n",
    "\n",
    "  $p_i(t + \\delta/2) = p_i(t) - (\\delta /2)\\frac{\\partial U}{\\partial x_i(t)}$ <br>\n",
    "\n",
    "2. Take a full step in time to update the position variable <br>\n",
    "\n",
    "  $x_i(t + \\delta) = x_i(t) + \\delta \\frac{\\partial K}{\\partial p_i(t + \\delta/2)}$ <br>\n",
    "\n",
    "3. Take the remaining half step in time to finish updating the momentum variable <br>\n",
    "\n",
    "  $p_i(t + \\delta) = p_i(t + \\delta/2) - (\\delta/2) \\frac{\\partial U}{\\partial x_i(t+\\delta)}$ <br>\n",
    "\n",
    "This method can be run for L steps to simulate dynamics over L x $\\delta$ units of time. This particular method preserves the energy of the system and is time-reversible, and thus it is a popular choice for numerical approximations, especially in comparison with Euler's method:<br>\n",
    "\n",
    "PUT PLOT OF EULER VS LEAPFROG FROM NEAL PAPER!!"
   ]
  },
  {
   "cell_type": "markdown",
   "metadata": {},
   "source": [
    "<h3>3.2 MCMC from Hamiltonian dynamics</h3>\n",
    "\n",
    "Using Hamiltonian dynamics to sample from a distribution requires translating the density function for this distribution to a potential energy function and introducing “momentum” variables to go with the original variables of interest (now seen as “position” variables). We can then simulate a Markov chain in which each iteration resamples the momentum and then does a Metropolis update with a proposal found using Hamiltonian dynamics.\n",
    "\n",
    "How can we choose this Hamiltonian function? It turns out to be simple to relate $H(x, p)$ to $p(x)$ using a concept known as the **canonical distribution**. For any energy function $E(\\theta)$, we define the corresponding canonical distribution as:\n",
    "\n",
    "$p(\\theta) = \\frac{1}{Z}e^{-E(\\mathbf\\theta)}$\n",
    "\n",
    "The variable Z is a normalizing constant called the partition function that scales the canonical distribution such that is sums to one, creating a valid probability distribution. \n",
    "\n",
    "Using the above equation for the total energy, we have:\n",
    "\n",
    "$p(x,p) \\propto e^{-H(x,p)} \\\\ = e^{-[U(x) - K(p)]} \\\\ = e^{-U(x)}e^{-K(p)} \\\\ \\propto p(x)p(p)$\n",
    "\n",
    "From above, see that the canonical distribution for x and p factorizes. We can now use Hamiltonian dynamics to sample from the joint canonical distribution over p and x and simply ignore the momentum contributions. Note that this is an example of introducing *auxiliary variables* to facilitate the Markov chain path.\n"
   ]
  },
  {
   "cell_type": "markdown",
   "metadata": {},
   "source": [
    "<h3>3.3 Probability and the Hamiltonian</h3>\n",
    "\n",
    "In HMC, we use Hamiltonian dynamics as a proposal function in order to explore the canonical (posterior) density $p(x)$ defined by $U(x)$ more efficiently. Starting at an initial state $[x_0, p_0]$, we simulate Hamiltonian dynamics for a short time using the Leap Frog method. We then use the position and momentum ariables at the end of the simulation as our porposed states variables $x^*$ and $p^*$. This proposed state is accepted with an update rule similar to Metropolis before:\n",
    "\n",
    "$p(x^*, p^*) \\propto e^{-[U(x^*) + K(p^*)]} \\\\ p(x_0, p_0) \\propto e^{-[U(x^{(t-1)}), K(p^{(t-1)})]}$\n",
    "\n",
    "Accept with probability:\n",
    "\n",
    "min(1, $\\frac{p(x^*, p^*)}{p(x^0, p^0)}$)\n",
    "\n",
    "Similar to the Metropolis algorithm, if the state is rejected, the next state of the Markov Chain is set at the state (t-1). Note that Hamiltonian Dynamics will follow contours of constant energy in phase space. Therefore, in order to explore all of the posterior distribution, we draw a random momentum from the corresponding canonical distribution $p(\\mathbf{p})$ before running the dynamics prior to each sampling iteration t.\n"
   ]
  },
  {
   "cell_type": "markdown",
   "metadata": {},
   "source": [
    "<h3>3.4 Hamiltonian Monte Carlo Algorithm</h3>\n",
    "\n",
    "<ol>\n",
    "<li>set t = 0\n",
    "<li>generate an initial position state $x^{(0)} \\sim \\pi^{(0)}$\n",
    "<li>repeat until t = M\n",
    "<ol>\n",
    "<li>set t = t+1\n",
    "<li>sample a new initial momentum variable from the momentum canonical distribution $p_0 \\sim p(p)$\n",
    "<li>set $x_0 = x^{(t-1)}$\n",
    "<li>run Leap Frog algorithm starting at $[x_0, p_0]$ for L steps and stepsize $\\delta$ to obtain proposed states $x^*$ and $p^*$\n",
    "<li>calculate the Metropolis acceptance probability:\n",
    "<li>- $\\alpha = \\text{min}(1,\\exp(-U(x^*) + U(x_0) - K(p^*) + K(p_0)))$\n",
    "<li>draw a random number u from $\\text{Unif}$(0,1)<br>\n",
    "- if $u \\leq \\alpha$ accept the proposed state position $x^*$ and set the next state in the Markov chain $x^{(t)}=x^*$<br>\n",
    "- else set $x^{(t)} = x^{(t-1)}$\n",
    "</ol>\n",
    "</ol>"
   ]
  },
  {
   "cell_type": "code",
   "execution_count": 4,
   "metadata": {
    "collapsed": false
   },
   "outputs": [],
   "source": [
    "def hamiltonian_monte_carlo(y, leap, delta, Cov):\n",
    "    \"\"\"\n",
    "    \n",
    "    Hamiltonian Monte Carlo algorithm for a bivariate normal\n",
    "\n",
    "    Parameters\n",
    "    ----------\n",
    "    y : ndarray of shape 2 x N. Stores (y1, y2) data points.\n",
    "    leap: number of steps of leap frog\n",
    "    delta: step size for discrete approximation\n",
    "    Cov: covariance matrix\n",
    "    \n",
    "    Returns\n",
    "    -------\n",
    "    y : ndarray of shape 2 x N. Transformed variable with HMC samples\n",
    "    \n",
    "    Raises\n",
    "    ------\n",
    "    Error if leap or delta are negative\n",
    "    Error if covariance is not positive semi definite\n",
    "    \n",
    "    \"\"\"\n",
    "    \n",
    "    assert(leap > 0), \"leap must be positive\"\n",
    "    assert(delta > 0), \"delta must be positive\"\n",
    "    assert(np.all(la.eigvals(Cov)>=0)), \"Covariance matrix must be Positive Semi-Definite\"\n",
    "    \n",
    "    \"\"\" Hamiltonian helper functions \"\"\"\n",
    "    \n",
    "    def potential_energy(x, Cov):\n",
    "        return x.dot(la.inv(Cov.T)).dot(x.T)\n",
    "\n",
    "    def grad_potential_energy(x, Cov):\n",
    "        return x.dot(la.inv(Cov))\n",
    "\n",
    "    def kinetic_energy(p):\n",
    "        return np.sum(p.T.dot(p)/2)\n",
    "    \n",
    "    N = y.shape[0]\n",
    "    \n",
    "    for t in range(1,N):\n",
    "\n",
    "        #   SAMPLE RANDOM MOMENTUM\n",
    "        p0 = np.random.randn(2)\n",
    "\n",
    "        #   SIMULATE HAMILTONIAN DYNAMICS\n",
    "        #   FIRST 1/2 STEP OF MOMENTUM\n",
    "        p_star = p0 - 1/2*delta*grad_potential_energy(y[t-1,:], Cov)\n",
    "\n",
    "        #   FIRST FULL STEP FOR POSITION/SAMPLE\n",
    "        y_star = y[t-1,:] + delta*p_star\n",
    "\n",
    "        #   FULL STEPS\n",
    "        for i in range(leap):\n",
    "            # MOMENTUM\n",
    "            p_star = p_star - delta*grad_potential_energy(y_star, Cov)\n",
    "            # POSITION/SAMPLE\n",
    "            y_star = y_star + delta*p_star\n",
    "\n",
    "        p_star = p_star - 1/2*delta*grad_potential_energy(y_star, Cov)\n",
    "\n",
    "        U0 = potential_energy(y[t-1,:], Cov)\n",
    "        U_star = potential_energy(y_star, Cov)\n",
    "\n",
    "        K0 = kinetic_energy(p0)\n",
    "        K_star = kinetic_energy(p_star)\n",
    "\n",
    "        # acceptance ratio\n",
    "        alpha = min(1, np.exp((U0 + K0) - (U_star + K_star)))\n",
    "\n",
    "        # accept/reject criterion        \n",
    "        y[t,:] = y_star if np.random.random() < alpha else y[t-1,:]\n",
    "        \n",
    "    return y\n"
   ]
  },
  {
   "cell_type": "markdown",
   "metadata": {},
   "source": [
    "<h3>3.5 Comparisons: Bivariate Normal</h3>\n",
    "\n",
    "We compare the 4 MCMC algorithms presented above on the same Bivariate Normal distribution. The parameters are as follows:\n",
    "\n",
    "$$X \\sim N(\\mu, \\Sigma)$$\n",
    "\n",
    "Where $\\mu = \\begin{pmatrix} 2\\\\1\\end{pmatrix}$ and $\\Sigma=\\begin{pmatrix} 1 && 0.8 \\\\ 0.8 && 1 \\end{pmatrix}$\n",
    "\n",
    "We run each algorithm for N = 1000 iterations. \n",
    "\n",
    "Algorithm specific parameters are:\n",
    "\n",
    "<ol>\n",
    "<li>Gibbs\n",
    "<li>Metropolis-Hastings\n",
    "<ul>\n",
    "<li>Random Walk $N(0,1)$ proposal distribution\n",
    "</ul>\n",
    "<li>Slice Sampling\n",
    "<ul>\n",
    "<li>Use boundary step size, $w$, 0.2\n",
    "</ul>\n",
    "<li>Hamiltonian Monte Carlo\n",
    "<ul>\n",
    "<li>Leap steps: 30\n",
    "<li>$\\delta$ = 0.3\n",
    "</ul>\n",
    "</ol>\n"
   ]
  },
  {
   "cell_type": "code",
   "execution_count": 5,
   "metadata": {
    "collapsed": true
   },
   "outputs": [],
   "source": [
    "\"\"\"\n",
    "INITIALIZE PARAMETERS FOR CONVERGENCE COMPARISONS FOR BIVARIATE DISTRIBUTION\n",
    "\"\"\"\n",
    "\n",
    "N = 1000\n",
    "corr = 0.8\n",
    "COVARIANCE = np.array([[1,corr],\n",
    "                       [corr,1]])\n",
    "x = np.zeros(2*N).reshape(N,2)\n",
    "x[:] = np.array([2,1])\n",
    "\n",
    "delta = 0.3\n",
    "leap = 30\n",
    "\n",
    "x_SLICE = slice_sampler(x[0], COVARIANCE, 0.2, N)\n",
    "x_HMC = hamiltonian_monte_carlo(x.copy(), leap, delta, COVARIANCE)\n",
    "x_MHMC = metropolis_hastings_MC(x.copy(), COVARIANCE)"
   ]
  },
  {
   "cell_type": "code",
   "execution_count": 6,
   "metadata": {
    "collapsed": false,
    "scrolled": false
   },
   "outputs": [
    {
     "data": {
      "image/png": "[encoded data removed]",
      "text/plain": [
       "<matplotlib.figure.Figure at 0x10ea2b750>"
      ]
     },
     "metadata": {},
     "output_type": "display_data"
    }
   ],
   "source": [
    "\"\"\"\n",
    "CONVERGENCE PLOTS\n",
    "\"\"\"\n",
    "\n",
    "fig, axes = plt.subplots(nrows=2, ncols=2, figsize=(20,14))\n",
    "\n",
    "axes[0][0].scatter(x_HMC[:,0],x_HMC[:,1])\n",
    "axes[0][0].plot(x_HMC[:50,0],x_HMC[:50,1],'ro-')\n",
    "axes[0][0].legend(['First 50 states','Samples'],fontsize=14)\n",
    "axes[0][0].set_title(\"Hamiltonian Monte Carlo for Bivariate Normal\\n correlation = {}\".format(corr),size=16)\n",
    "axes[0][0].tick_params(axis='both', which='major', labelsize=16)\n",
    "\n",
    "axes[0][1].scatter(x_MHMC[:,0],x_MHMC[:,1])\n",
    "axes[0][1].plot(x_MHMC[:50,0],x_MHMC[:50,1],'ro-')\n",
    "axes[0][1].legend(['First 50 states','Samples'],fontsize=14)\n",
    "axes[0][1].set_title(\"Metropolis Hastings Monte Carlo for Bivariate Normal\\n correlation = {}\".format(corr),size=16)\n",
    "axes[0][1].tick_params(axis='both', which='major', labelsize=14)\n",
    "\n",
    "\n",
    "axes[1][0].scatter(x_SLICE[:,0],x_SLICE[:,1])\n",
    "axes[1][0].plot(x_SLICE[:50,0],x_SLICE[:50,1],'ro-')\n",
    "axes[1][0].legend(['First 50 states','Samples'],fontsize=14)\n",
    "axes[1][0].set_title(\"Slice Sampler for Bivariate Normal\\n correlation = {}\".format(corr),size=16)\n",
    "axes[1][0].tick_params(axis='both', which='major', labelsize=14)\n",
    "\n",
    "pass"
   ]
  },
  {
   "cell_type": "markdown",
   "metadata": {
    "collapsed": true
   },
   "source": [
    "Empirical Analysis: MCMC Comparisons\n",
    "---"
   ]
  },
  {
   "cell_type": "markdown",
   "metadata": {},
   "source": [
    "We compare different MCMC methods on a larger, real data set. The dataset contains 9568 observations collected in a Turkish Power Plant over 6 years. Features consist of hourly average ambient variables Temperature (T), Ambient Pressure (AP), Relative Humidity (RH) and Exhaust Vacuum (V) to predict the net hourly electrical energy output (EP) of the plant. \n",
    "\n",
    "For our model, we assume a simple Linear Regression framework, with 4 Predictors (T, AP, RH, V) and 1 Response (EP). We normalize the data in advance, as we are more interested in comparisons across methods than interpretation of coefficients.\n",
    "\n",
    "$$\\text{Model: }y = X\\beta + \\epsilon$$\n",
    "$$\\epsilon \\sim N(0, \\tau^{-1})$$\n",
    "$$\\beta \\sim N(0, I)$$\n",
    "$$\\tau \\sim \\text{Gamma}(1, 1)$$"
   ]
  },
  {
   "cell_type": "code",
   "execution_count": 36,
   "metadata": {
    "collapsed": true
   },
   "outputs": [],
   "source": [
    "#Read in Power Plant Data and Normalize#\n",
    "Data = pd.read_csv(\"MV_Data.csv\")\n",
    "std_scale = preprocessing.StandardScaler().fit(Data)\n",
    "Data = std_scale.transform(Data)\n",
    "\n",
    "#Set Predictor Matrix X and Response Vector Y#\n",
    "X = Data[:,1:5]; Y = Data[:,5]"
   ]
  },
  {
   "cell_type": "markdown",
   "metadata": {},
   "source": [
    "### Gibbs Sampling"
   ]
  },
  {
   "cell_type": "markdown",
   "metadata": {},
   "source": [
    "In Bayesian Linear Regression, the conditional distribution of the parameters are:\n",
    "\n",
    "$$p(\\beta | y, X, \\tau) \\sim N_4(\\hat{\\mu}, \\hat{\\Sigma})$$\n",
    "$$\\hat{\\Sigma} = (I + \\tau X^TX)^{-1}$$\n",
    "$$\\hat{\\mu} = (I + \\tau X^TX)^{-1} (\\tau X^Ty)$$\n",
    "\n",
    "$$p(\\tau | y, X, \\beta) \\sim \\text{Gamma}(1 + \\frac{n}{2}, 1 + \\frac{1}{2} \\displaystyle\\sum_{i=1}^{n} (y_i - \\beta^T x_i)^2)$$"
   ]
  },
  {
   "cell_type": "code",
   "execution_count": 37,
   "metadata": {
    "collapsed": true
   },
   "outputs": [],
   "source": [
    "def Gibbs_LinReg(X, y, niters):\n",
    "    \"\"\"\n",
    "    Gibbs Sampler Algorithm for Bayesian Linear Regression Model\n",
    "    \n",
    "    Parameters\n",
    "    ----------\n",
    "    X : Matrix of shape n x p containing Predictors\n",
    "    y : Vector of length n containing Response\n",
    "    niters : Number of Iterations to Run\n",
    "        \n",
    "    Returns\n",
    "    -------\n",
    "    Beta : Matrix of Beta Samples after Burn-In\n",
    "    Tau : Vector of Tau Samples after Burn-In\n",
    "    \"\"\" \n",
    "    ##Set Priors##\n",
    "    \n",
    "    #Prior for Beta#\n",
    "    b0 = np.zeros(4); E0 = np.eye(4)\n",
    "    \n",
    "    #Prior for Tau#\n",
    "    a = 1; b = 1\n",
    "    \n",
    "    #Number of Observations\n",
    "    n = X.shape[0]\n",
    "    \n",
    "    #Create Empty Matrix to store samples for Memory Allocation#\n",
    "    Beta = np.zeros((niters+1)*4).reshape(niters+1,4)\n",
    "    Tau = np.zeros(niters+1)\n",
    "\n",
    "    #Run Sampler for 'niters' Iterations#\n",
    "    for j in range(niters):\n",
    "    \n",
    "        #Calculate Mean and Variance of Beta Conditional Posterior#\n",
    "        Mean = np.dot(la.inv(la.inv(E0) + np.dot(X.T, X)*Tau[j]),(np.dot(la.inv(E0), b0) + np.dot(X.T, y)*Tau[j]))\n",
    "        Var = la.inv(la.inv(E0) + np.dot(X.T, X)*Tau[j])\n",
    "        \n",
    "        #Update Beta\n",
    "        Beta[j+1,:] = np.random.multivariate_normal(Mean, Var)\n",
    "        \n",
    "        #Update Tau\n",
    "        Tau[j+1] = np.random.gamma(a + n/2, (b + (1/2)*np.dot(y - np.dot(X,Beta[j+1,:]).T,(y - np.dot(X, Beta[j+1,:]))))**(-1))\n",
    "    \n",
    "    #Set Burn In#\n",
    "    Burn_In = int(niters*0.1)\n",
    "    \n",
    "    return Beta[Burn_In:,:], Tau[Burn_In:]"
   ]
  },
  {
   "cell_type": "markdown",
   "metadata": {},
   "source": [
    "### Metropolis-Hastings"
   ]
  },
  {
   "cell_type": "markdown",
   "metadata": {},
   "source": [
    "We follow the same formulation as above in our Metropolis algorithm. In testing, we found that proposing each Beta value individually resulted in more acceptancces and thus more accurate estimations of our parameters. As the Metropolis algorithm involves a slow exploration of the posterior distribution, we Cythonize the Metropolis algorithm to speed it up"
   ]
  },
  {
   "cell_type": "code",
   "execution_count": 38,
   "metadata": {
    "collapsed": false
   },
   "outputs": [
    {
     "name": "stdout",
     "output_type": "stream",
     "text": [
      "The cython extension is already loaded. To reload it, use:\n",
      "  %reload_ext cython\n"
     ]
    }
   ],
   "source": [
    "%load_ext cython"
   ]
  },
  {
   "cell_type": "code",
   "execution_count": 39,
   "metadata": {
    "collapsed": false,
    "scrolled": false
   },
   "outputs": [],
   "source": [
    "%%cython\n",
    "\n",
    "#Import Necessary Python Modules#\n",
    "import numpy as np\n",
    "import cython\n",
    "import scipy.stats as stats\n",
    "\n",
    "cdef MH_Posterior(double Beta1, double Beta2, double Beta3, double Beta4, double Tau, double[:] Y, double[:,:] X):\n",
    "    \"\"\"\n",
    "    Calculate Posterior Log-PDF For Specific Values of Beta and Tau\n",
    "    \n",
    "    Parameters\n",
    "    ----------\n",
    "    Beta1 : Coefficient for Temperature (T)\n",
    "    Beta2 : Coefficient for Ambient Pressure (AP)\n",
    "    Beta3 : Coefficient for Relative Humidity (RH)\n",
    "    Beta4 : Coefficient for Exhaust Vaccuum (EV)\n",
    "    Tau : Coefficient for Precision\n",
    "    X : Matrix of shape n x p containing Predictors\n",
    "    y : Vector of length n containing Response\n",
    "        \n",
    "    Returns\n",
    "    -------\n",
    "    Value of Posterior Log-PDF at specific Beta and Tau values\n",
    "    \"\"\"\n",
    "    \n",
    "    #Initialize n and Beta Vector#\n",
    "    cdef int n = X.shape[0]\n",
    "    Beta = np.array([Beta1, Beta2, Beta3, Beta4])\n",
    "    \n",
    "    #Calculate Log-Likelihood#\n",
    "    Log_Lik = (n/2)*np.log(Tau) - (Tau/2) * np.dot(Y - np.dot(X,Beta).T,(Y - np.dot(X, Beta)))\n",
    "    \n",
    "    #Initialize Beta and Tau RV Objects#\n",
    "    Beta_Prior = stats.multivariate_normal(mean = np.array([0,0,0,0]), cov = np.eye(4))\n",
    "    Tau_Prior = stats.gamma(a = 1)\n",
    "    \n",
    "    #Return Log Posterior PDF#\n",
    "    return(Log_Lik + Beta_Prior.logpdf(Beta) + Tau_Prior.logpdf(Tau))\n",
    "\n",
    "@cython.boundscheck(False)\n",
    "def MH_LinReg(double[:,:] X, double[:] Y, int niters):\n",
    "    \"\"\"\n",
    "    Metropolis-Hastings algorithm for Bayesian Linear Regression\n",
    "    \n",
    "    Parameters\n",
    "    ----------\n",
    "    X : Matrix of shape n x p containing Predictors\n",
    "    y : Vector of length n containing Response\n",
    "    niters : Number of Iterations to Run\n",
    "        \n",
    "    Returns\n",
    "    -------\n",
    "    Beta : Matrix of Beta Samples after Burn-In\n",
    "    Tau : Vector of Tau Samples after Burn-In\n",
    "    \"\"\"\n",
    "    \n",
    "    #Initialize Beta and Tau Vectors Individually\n",
    "    Beta1 = np.array([0]); Beta2 = np.array([0]); Beta3 = np.array([0]); Beta4 = np.array([0])\n",
    "    Tau = np.array([1])\n",
    "    \n",
    "    #Set Beta and Tau Tuning Parameters\n",
    "    cdef double Beta_Tuning = 0.5\n",
    "    cdef int Tau_Tuning = 1\n",
    "    \n",
    "    #Run sampler for 'niters' iterations#\n",
    "    for T in range(niters):\n",
    "        \n",
    "        ##Propose Values, Calculate Log-Rho Value, and Accept/Reject##\n",
    "        \n",
    "        # Beta1 #\n",
    "        Beta1_Star = np.random.normal(loc = Beta1[-1], scale = 0.1)\n",
    "        rho = MH_Posterior(Beta1_Star, Beta2[-1], Beta3[-1], Beta4[-1], Tau[-1], Y, X) - MH_Posterior(Beta1[-1], Beta2[-1], Beta3[-1], Beta4[-1], Tau[-1], Y, X)\n",
    "        U = np.random.uniform()\n",
    "        if np.log(U) < rho:\n",
    "            Beta1 = np.append(Beta1, Beta1_Star)\n",
    "            \n",
    "        # Beta2 #\n",
    "        Beta2_Star = np.random.normal(loc = Beta2[-1], scale = 0.05)\n",
    "        rho = MH_Posterior(Beta1[-1], Beta2_Star, Beta3[-1], Beta4[-1], Tau[-1], Y, X) - MH_Posterior(Beta1[-1], Beta2[-1], Beta3[-1], Beta4[-1], Tau[-1], Y, X)\n",
    "        U = np.random.uniform()\n",
    "        if np.log(U) < rho:\n",
    "            Beta2 = np.append(Beta2, Beta2_Star)\n",
    "            \n",
    "        # Beta3 #\n",
    "        Beta3_Star = np.random.normal(loc = Beta3[-1], scale = 0.01)\n",
    "        rho = MH_Posterior(Beta1[-1], Beta2[-1], Beta3_Star, Beta4[-1], Tau[-1], Y, X) - MH_Posterior(Beta1[-1], Beta2[-1], Beta3[-1], Beta4[-1], Tau[-1], Y, X)\n",
    "        U = np.random.uniform()\n",
    "        if np.log(U) < rho:\n",
    "            Beta3 = np.append(Beta3, Beta3_Star)\n",
    "            \n",
    "        # Beta4 #\n",
    "        Beta4_Star = np.random.normal(loc = Beta4[-1], scale = 0.03)\n",
    "        rho = MH_Posterior(Beta1[-1], Beta2[-1], Beta3[-1], Beta4_Star, Tau[-1], Y, X) - MH_Posterior(Beta1[-1], Beta2[-1], Beta3[-1], Beta4[-1], Tau[-1], Y, X)\n",
    "        U = np.random.uniform()\n",
    "        if np.log(U) < rho:\n",
    "            Beta4 = np.append(Beta4, Beta4_Star)\n",
    "        \n",
    "        # Tau #\n",
    "        Tau_Star = np.random.normal(loc = Tau[-1], scale = Tau_Tuning)\n",
    "        rho = MH_Posterior(Beta1[-1], Beta2[-1], Beta3[-1], Beta4[-1], Tau_Star, Y, X) - MH_Posterior(Beta1[-1], Beta2[-1], Beta3[-1], Beta4[-1], Tau[-1], Y, X)\n",
    "        U = np.random.uniform()\n",
    "        if np.log(U) < rho:\n",
    "            Tau = np.append(Tau, Tau_Star)\n",
    "    \n",
    "        \n",
    "    return np.array([Beta1, Beta2, Beta3, Beta4]), Tau"
   ]
  },
  {
   "cell_type": "markdown",
   "metadata": {},
   "source": [
    "### Hamiltonian Monte Carlo"
   ]
  },
  {
   "cell_type": "markdown",
   "metadata": {},
   "source": [
    "For our Hybrid Monte Carlo Algorithm, we need 2 pieces of information from our Linear Regression Model. For ease of computation, we will use the Logarithm of both results below, and set $\\theta = \\text{log}(\\tau)$\n",
    "\n",
    "1. Posterior Distribution\n",
    "    * The 'Potential Energy' Function that we evaluate within our acceptance criterion\n",
    "    * $p(\\beta, \\theta|X, y) = (\\frac{n}{2} + 1)\\theta - e^{\\theta}(\\frac{1}{2}(y - X\\beta)^T(y - X\\beta) + 1) - \\frac{1}{2}\\beta^T \\beta$\n",
    "2. Gradient of Posterior Distribution\n",
    "    * Simulating Hamiltonian Dynamics, to simulate the subsequent Momentum and Parameter Variables\n",
    "    * $\\nabla L(\\beta, \\theta|X, y) = \\begin{bmatrix}\n",
    "  e^{\\theta}X^T(y - X\\beta) - \\beta \\\\\n",
    "  \\frac{n}{2} + 1 - e^{\\theta}(\\frac{1}{2}(y - X\\beta)^T(y - X\\beta) + 1)\n",
    " \\end{bmatrix}$\n",
    "\n",
    "    \n",
    "\n",
    "\n",
    "\n",
    "\n",
    "\n",
    "\n"
   ]
  },
  {
   "cell_type": "code",
   "execution_count": 40,
   "metadata": {
    "collapsed": true
   },
   "outputs": [],
   "source": [
    "def unif(delta, low=.85, high=1.15):\n",
    "    \"\"\"\n",
    "    Function to adaptively vary step size\n",
    "    \n",
    "    Parameters\n",
    "    ----------\n",
    "    delta : Current Step Size\n",
    "    low : Lower bound of Uniform Random Sample\n",
    "    high : Upper Bound of Uniform Random Sample\n",
    "    \n",
    "    Returns\n",
    "    -------\n",
    "    Updated Step Size between 0.85 and 1.15 times current Step Size\n",
    "    \n",
    "    \"\"\"\n",
    "    return np.random.uniform(low, high) * delta\n",
    "    \n",
    "def log_grad(X, Y, Beta, Tau):\n",
    "    \"\"\"\n",
    "    Evaluates the Log-Gradient of the Posterior Distribution for Beta and Tau\n",
    "    \n",
    "    Parameters\n",
    "    ----------\n",
    "    X : Matrix of shape n x p containing Predictors\n",
    "    Y : Vector of length n containing Response\n",
    "    Beta : Vector of Current Beta Values\n",
    "    Tau : Vector of Current Tau Value\n",
    "    \n",
    "    Returns\n",
    "    -------\n",
    "    Gradient vector of length p+1\n",
    "    \n",
    "    \"\"\"\n",
    "    ##Set Priors##\n",
    "    \n",
    "    #Prior for Beta#\n",
    "    b0 = np.zeros(4); E0 = np.eye(4)\n",
    "    \n",
    "    #Prior for Tau#\n",
    "    a = 1; b = 1\n",
    "    \n",
    "    #Calculate number of observations#\n",
    "    n = X.shape[0]\n",
    "    \n",
    "    dBeta = np.exp(Tau) * np.dot(X.T,(Y - np.dot(X,Beta))) - np.dot(la.inv(E0),(Beta - b0))\n",
    "    dTau = n/2 + a - np.exp(Tau)*((1/2)*np.dot((Y - np.dot(X,Beta)).T,(Y - np.dot(X,Beta))) + b)\n",
    "    return np.append(dBeta, dTau)\n",
    "    \n",
    "def potential_energy(X, Y, Beta, Tau):\n",
    "    \"\"\"\n",
    "    Evaluates the Log of the Posterior Distribution for Beta and Tau\n",
    "    \n",
    "    Parameters\n",
    "    ----------\n",
    "    X : Matrix of shape n x p containing Predictors\n",
    "    Y : Vector of length n containing Response\n",
    "    Beta : Vector of Current Beta Values\n",
    "    Tau : Vector of Current Tau Value\n",
    "    \n",
    "    Returns\n",
    "    -------\n",
    "    The Log of the Posterior Distribution under inputs\n",
    "    \n",
    "    \"\"\"\n",
    "    ##Set Priors##\n",
    "    \n",
    "    #Prior for Beta#\n",
    "    b0 = np.zeros(4); E0 = np.eye(4)\n",
    "    \n",
    "    #Prior for Tau#\n",
    "    a = 1; b = 1\n",
    "    \n",
    "    #Calculate number of observations#\n",
    "    n = X.shape[0]\n",
    "    \n",
    "    return((n/2 + a)*Tau - np.exp(Tau)*((1/2)*np.dot(Y - np.dot(X,Beta).T,(Y - np.dot(X, Beta))) + b) - (1/2)*np.dot(Beta.T,np.dot(la.inv(E0),Beta)))\n",
    "        \n",
    "def kinetic_energy(p):\n",
    "    \"\"\"\n",
    "    Evaluates the PDF for the Momentum Variables (Multivariate Normal). This is used in accept/reject step\n",
    "    \n",
    "    Parameters\n",
    "    ----------\n",
    "    p : Vector of Momentum Values to calculate the PDF for\n",
    "    \n",
    "    Returns\n",
    "    -------\n",
    "    Single value containing the PDF for a MVN as the p vetor values\n",
    "    \n",
    "    \"\"\"\n",
    "    mvn = stats.multivariate_normal()\n",
    "    return (np.sum(mvn.logpdf(p)))\n",
    "\n",
    "def HMC_LinReg(X, Y, niters):\n",
    "    \"\"\"\n",
    "    Hamiltonian Monte Carlo algorithm for Bayesian Linear Regression\n",
    "    \n",
    "    Parameters\n",
    "    ----------\n",
    "    X : Matrix of shape n x p containing Predictors\n",
    "    y : Vector of length n containing Response\n",
    "    niters : Number of Iterations to Run\n",
    "        \n",
    "    Returns\n",
    "    -------\n",
    "    Beta : Matrix of Beta Samples after Burn-In\n",
    "    Tau : Vector of Tau Samples after Burn-In\n",
    "    \"\"\"\n",
    "    \n",
    "    #Calculate number of observations#\n",
    "    n = X.shape[0]\n",
    "    \n",
    "    #Set Step-Size (Delta) And Number of Leaps#\n",
    "    delta = 0.25/np.sqrt(n)\n",
    "    leap = int(2/delta)\n",
    "    \n",
    "    #Initialize Array to Hold Beta and Tau Accepted Proposals\n",
    "    Vars = np.array([0,0,0,0,0]).reshape(1,5)\n",
    "    \n",
    "    #Run sampler for 'niters' iterations\n",
    "    for t in range(niters):\n",
    "        \n",
    "        #Choose step size adaptively at each iteration#\n",
    "        delta = unif(delta)\n",
    "                    \n",
    "        #Sample Random Momentum#\n",
    "        p0 = np.random.randn(5)\n",
    "            \n",
    "        ##Simulate Hamiltonian Dynamics##\n",
    "        \n",
    "        #First 1/2 Step of Momentum\n",
    "        p_star = p0 - (1/2)*delta*-log_grad(X, Y, Vars[-1,:4], Vars[-1,4])\n",
    "        \n",
    "        #Set Proposed Variable Values to previous accepted Value#\n",
    "        Vars_Star = Vars[-1,:]\n",
    " \n",
    "        #Full Steps of Momentum and Variable#\n",
    "        for i in range(leap):\n",
    "            \n",
    "            #First full step of position/sample\n",
    "            Vars_Star = Vars_Star + delta*p_star\n",
    "            \n",
    "            if i != leap-1:\n",
    "            \n",
    "                #Update Momentum on all but last leap step#\n",
    "                p_star = p_star - delta*-log_grad(X, Y, Vars_Star[:4], Vars_Star[4])\n",
    "        \n",
    "        #Final 1/2 Step of Momentum#\n",
    "        p_star = p_star - delta/2*-log_grad(X, Y, Vars_Star[:4], Vars_Star[4])\n",
    "        \n",
    "        #Negate p_star to conserve energy#\n",
    "        p_star = -p_star\n",
    "        \n",
    "        #Potential Energy at Proposed and Previous Variables#\n",
    "        U0 = potential_energy(X, Y, Vars[-1,:4], Vars[-1,4])\n",
    "        U_star = potential_energy(X, Y, Vars_Star[:4], Vars_Star[4])\n",
    "    \n",
    "        #Kinetic Energy for Proposed and Previous Momentum#\n",
    "        K0 = kinetic_energy(p0)\n",
    "        K_star = kinetic_energy(p_star)\n",
    "        \n",
    "        #Log Acceptance Ratio#\n",
    "        alpha = U_star + K_star - (U0 + K0)\n",
    "        \n",
    "        #Accept/Reject Condition\n",
    "        if np.log(np.random.random()) < alpha:\n",
    "            Vars = np.vstack([Vars, Vars_Star])\n",
    "\n",
    "    return Vars[:,:4], np.exp(Vars[:,4])"
   ]
  },
  {
   "cell_type": "code",
   "execution_count": 41,
   "metadata": {
    "collapsed": true
   },
   "outputs": [],
   "source": [
    "Beta_G, Tau_G = Gibbs_LinReg(X, Y, 10000)\n",
    "Beta_M, Tau_M = MH_LinReg(X, Y, 10000)\n",
    "Beta_HMC, Tau_HMC = HMC_LinReg(X, Y, 10000)"
   ]
  },
  {
   "cell_type": "markdown",
   "metadata": {},
   "source": [
    "### Comparisons"
   ]
  },
  {
   "cell_type": "markdown",
   "metadata": {},
   "source": [
    "$$\\text{Parameter Estimates}$$"
   ]
  },
  {
   "cell_type": "markdown",
   "metadata": {},
   "source": [
    "||$\\mathbf{\\beta_1}$|$\\mathbf{\\beta_2}$|$\\mathbf{\\beta_3}$|$\\mathbf{\\beta_4}$|$\\mathbf{\\tau}$|\n",
    "|--|:---:|:---:|:---:|:---:|:---:|\n",
    "|OLS | -0.8635 | -0.1742 | 0.0216 | -0.1352 | ---\n",
    "|Gibbs |-0.8635 | -0.1742 | 0.0216 | -0.1352 | 13.9793\n",
    "|Metropolis | -0.8529 | -0.1731 | 0.0217 | -0.1347 | 13.9224\n",
    "|HMC | -0.8529 | -0.1731 | 0.0217 | -0.1347 | 13.9224"
   ]
  },
  {
   "cell_type": "markdown",
   "metadata": {},
   "source": [
    "We can see that all MCMC Methods and OLS provide very accurate estimates for the $\\beta$ and $\\tau$ coefficients. Across all the methods, it is interesting to look at the variance of the estimates as well as the number of iterations until convergence."
   ]
  },
  {
   "cell_type": "markdown",
   "metadata": {},
   "source": [
    "$$\\text{Variances}$$"
   ]
  },
  {
   "cell_type": "markdown",
   "metadata": {},
   "source": [
    "||$\\mathbf{\\beta_1}$|$\\mathbf{\\beta_2}$|$\\mathbf{\\beta_3}$|$\\mathbf{\\beta_4}$|$\\mathbf{\\tau}$|\n",
    "|--|:---:|:---:|:---:|:---:|:---:|\n",
    "|Gibbs |4.5231e-05| 2.9383e-05| 1.0999e-05| 1.26843e-05 | 0.04119\n",
    "|Metropolis | 0.00639 | 0.00016| 1.6464e-05 | 0.0001 | 0.5916\n",
    "|HMC | 2.0170e-04|   7.0564e-05|   6.3290e-06| 1.4140e-05 | 0.05403"
   ]
  },
  {
   "cell_type": "markdown",
   "metadata": {},
   "source": [
    "We define convergence here as the Iteration at which the difference between the accepted parameter sample and the previous sample is less than $10^{-5}$"
   ]
  },
  {
   "cell_type": "markdown",
   "metadata": {},
   "source": [
    "$$\\text{Number of Iterations until Convergence}$$"
   ]
  },
  {
   "cell_type": "markdown",
   "metadata": {},
   "source": [
    "||$\\mathbf{\\beta_1}$|$\\mathbf{\\beta_2}$|$\\mathbf{\\beta_3}$|$\\mathbf{\\beta_4}$|$\\mathbf{\\tau}$|\n",
    "|--|:---:|:---:|:---:|:---:|:---:|\n",
    "|Gibbs |1330| 1396| 1988| 1800 | 1329\n",
    "|Metropolis | 235 | 57| 252 | 16 | 1050\n",
    "|HMC | 695|   82|   504| 35 | 20"
   ]
  },
  {
   "cell_type": "markdown",
   "metadata": {},
   "source": [
    "We can see that Gibbs Sampling converges well with low variances of the parameter estimates, but it takes quite a number of iterations to converge. This result is likely due to the 'Burn In' period needed for the Gibbs algorithm. \n",
    "\n",
    "Our Metropolis Sampler converged quite quickly, but it is important to note that this convergence is evaluated on the *accepted* proposals, of which for the total number of $\\beta$ coefficients there were roughly 500, and for the $\\tau$ precision, about 2500. The main flaw of the Metropolis algorithm is its 'random walk' behavior, and we can see that with the exceptionally high variances of our accepted parameter estimates.\n",
    "\n",
    "The Hamiltonian Monte Carlo algorithm balanced both a low variance in the parameter estimates and a low number of iterations until convergence. In a separate test of just 100 Iterations, the HMC algorithm is able to quickly find the appropriate parameter estimates."
   ]
  },
  {
   "cell_type": "markdown",
   "metadata": {},
   "source": [
    "References\n",
    "---"
   ]
  }
 ],
 "metadata": {
  "kernelspec": {
   "display_name": "Python 3",
   "language": "python",
   "name": "python3"
  },
  "language_info": {
   "codemirror_mode": {
    "name": "ipython",
    "version": 3
   },
   "file_extension": ".py",
   "mimetype": "text/x-python",
   "name": "python",
   "nbconvert_exporter": "python",
   "pygments_lexer": "ipython3",
   "version": "3.5.1"
  }
 },
 "nbformat": 4,
 "nbformat_minor": 0
}
